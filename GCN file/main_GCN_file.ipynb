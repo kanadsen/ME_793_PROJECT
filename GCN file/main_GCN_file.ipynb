{
 "cells": [
  {
   "cell_type": "code",
   "execution_count": 13,
   "metadata": {},
   "outputs": [],
   "source": [
    "# Imports all the required packages\n",
    "import os\n",
    "import argparse\n",
    "import numpy as np\n",
    "import os.path as osp\n",
    "import pandas as pd\n",
    "import time\n",
    "from torch_sparse import coalesce\n",
    "from torch_geometric.data import (InMemoryDataset, download_url, extract_zip,Data)\n",
    "import torch\n",
    "import torch.nn.functional as F\n",
    "from rdkit.Chem import DataStructs\n",
    "from torch.utils.data import Dataset, DataLoader\n",
    "\n",
    "try:\n",
    "    import rdkit\n",
    "    from rdkit import Chem\n",
    "    from rdkit.Chem import AllChem\n",
    "    from rdkit import rdBase\n",
    "    from rdkit.Chem.rdchem import HybridizationType\n",
    "    from rdkit import RDConfig\n",
    "    from rdkit.Chem import ChemicalFeatures\n",
    "    from rdkit.Chem.rdchem import BondType as BT\n",
    "    from rdkit.Chem import Draw\n",
    "    rdBase.DisableLog('rdApp.error')\n",
    "except ImportError:\n",
    "    rdkit = None"
   ]
  },
  {
   "cell_type": "code",
   "execution_count": 16,
   "metadata": {},
   "outputs": [
    {
     "data": {
      "text/plain": [
       "device(type='cpu')"
      ]
     },
     "execution_count": 16,
     "metadata": {},
     "output_type": "execute_result"
    }
   ],
   "source": [
    "# pytorch will be run on cpu\n",
    "seed=200\n",
    "np.random.seed(200)\n",
    "torch.manual_seed(seed)\n",
    "device = torch.device('cuda' if torch.cuda.is_available() else 'cpu')\n",
    "device"
   ]
  },
  {
   "cell_type": "code",
   "execution_count": 17,
   "metadata": {},
   "outputs": [],
   "source": [
    "# encoding of all variables\n",
    "\n",
    "def one_of_k_encoding(x, allowable_set):\n",
    "    if x not in allowable_set:\n",
    "        raise Exception(\"input {0} not in allowable set{1}:\".format(x, allowable_set))\n",
    "    return list(map(lambda s: x == s, allowable_set))\n",
    "\n",
    "def one_of_k_encoding_unk(x, allowable_set):\n",
    "    \"\"\"Maps inputs not in the allowable set to the last element.\"\"\"\n",
    "    if x not in allowable_set:\n",
    "        x = allowable_set[-1]\n",
    "    return list(map(lambda s: x == s, allowable_set))\n",
    " \n",
    "def get_intervals(l):\n",
    "    \"\"\"For list of lists, gets the cumulative products of the lengths\"\"\"\n",
    "    intervals = len(l) * [0]\n",
    "    # Initalize with 1\n",
    "    intervals[0] = 1\n",
    "    for k in range(1, len(l)):\n",
    "        intervals[k] = (len(l[k]) + 1) * intervals[k - 1]\n",
    "    return intervals\n",
    "\n",
    "def safe_index(l, e):\n",
    "    \"\"\"Gets the index of e in l, providing an index of len(l) if not found\"\"\"\n",
    "    try:\n",
    "        return l.index(e)\n",
    "    except:\n",
    "        print(\"Add value to list\")"
   ]
  },
  {
   "cell_type": "code",
   "execution_count": 22,
   "metadata": {},
   "outputs": [
    {
     "name": "stdout",
     "output_type": "stream",
     "text": [
      "[1, 6, 48, 144, 432, 2160]\n"
     ]
    }
   ],
   "source": [
    "# Atom features\n",
    "\n",
    "possible_atom_list = ['H', 'C', 'O', 'F','N','Cl','P','S','Br','I','Si']\n",
    "aromatic=[0,1]\n",
    "isring=[0,1]\n",
    "possible_numH_list = [0, 1, 2, 3, 4]\n",
    "possible_valence_list = [0, 1, 2, 3, 4, 5, 6]\n",
    "possible_formal_charge_list = [-3, -2, -1, 0, 1, 2, 3]\n",
    "# sp3d is removed because it doesnot vary according to the paper\n",
    "possible_hybridization_list = [Chem.rdchem.HybridizationType.SP, Chem.rdchem.HybridizationType.SP2,Chem.rdchem.HybridizationType.SP3,Chem.rdchem.HybridizationType.SP3D2]\n",
    "\n",
    "reference_lists = [possible_atom_list, possible_numH_list, possible_valence_list,aromatic,isring,possible_hybridization_list]\n",
    "\n",
    "intervals = get_intervals(reference_lists)\n",
    "print(intervals)"
   ]
  },
  {
   "cell_type": "code",
   "execution_count": null,
   "metadata": {},
   "outputs": [],
   "source": [
    "def get_feature_list(atom):\n",
    "    features = 6 * [0]\n",
    "    features[0] = safe_index(possible_atom_list, atom.GetSymbol())\n",
    "    features[1] = safe_index(possible_numH_list, atom.GetTotalNumHs())\n",
    "    features[2] = safe_index(possible_valence_list, atom.GetImplicitValence())\n",
    "    features[3] = safe_index(possible_formal_charge_list, atom.GetFormalCharge())\n",
    "    features[4] = safe_index(possible_number_radical_e_list,atom.GetNumRadicalElectrons())\n",
    "    features[5] = safe_index(possible_hybridization_list, atom.GetHybridization())\n",
    "    return features"
   ]
  }
 ],
 "metadata": {
  "kernelspec": {
   "display_name": "793_env",
   "language": "python",
   "name": "python3"
  },
  "language_info": {
   "codemirror_mode": {
    "name": "ipython",
    "version": 3
   },
   "file_extension": ".py",
   "mimetype": "text/x-python",
   "name": "python",
   "nbconvert_exporter": "python",
   "pygments_lexer": "ipython3",
   "version": "3.10.9"
  },
  "orig_nbformat": 4,
  "vscode": {
   "interpreter": {
    "hash": "c3501b5041c5233f2ce1d5f142327998ccbd12e95b6317deec921834a08ecc96"
   }
  }
 },
 "nbformat": 4,
 "nbformat_minor": 2
}
