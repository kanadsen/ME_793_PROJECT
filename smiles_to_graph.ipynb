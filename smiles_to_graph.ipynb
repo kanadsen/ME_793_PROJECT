{
 "cells": [
  {
   "cell_type": "code",
   "execution_count": 2,
   "metadata": {},
   "outputs": [],
   "source": [
    "# Importing required packages\n",
    "# Im\n",
    "import os\n",
    "import os.path as osp\n",
    "\n",
    "import time\n",
    "\n",
    "import torch\n",
    "import torch.nn.functional as F\n",
    "from torch_sparse import coalesce\n",
    "from torch_geometric.data import (InMemoryDataset, download_url, extract_zip,Data)\n",
    "\n",
    "try:\n",
    "    import rdkit\n",
    "    from rdkit import Chem\n",
    "    from rdkit.Chem import AllChem\n",
    "    from rdkit import rdBase\n",
    "    from rdkit.Chem.rdchem import HybridizationType\n",
    "    from rdkit import RDConfig\n",
    "    from rdkit.Chem import ChemicalFeatures\n",
    "    from rdkit.Chem.rdchem import BondType as BT\n",
    "    from rdkit.Chem import Draw\n",
    "    rdBase.DisableLog('rdApp.error')\n",
    "except ImportError:\n",
    "    rdkit = None\n"
   ]
  }
 ],
 "metadata": {
  "kernelspec": {
   "display_name": "env",
   "language": "python",
   "name": "python3"
  },
  "language_info": {
   "codemirror_mode": {
    "name": "ipython",
    "version": 3
   },
   "file_extension": ".py",
   "mimetype": "text/x-python",
   "name": "python",
   "nbconvert_exporter": "python",
   "pygments_lexer": "ipython3",
   "version": "3.9.13"
  },
  "orig_nbformat": 4,
  "vscode": {
   "interpreter": {
    "hash": "590feac70a82bb1aa01d1d88c5b52a6704d0d09da332d4ff09114052a4b1e63b"
   }
  }
 },
 "nbformat": 4,
 "nbformat_minor": 2
}
