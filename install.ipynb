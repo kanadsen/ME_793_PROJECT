{
 "cells": [
  {
   "cell_type": "code",
   "execution_count": 1,
   "metadata": {},
   "outputs": [
    {
     "name": "stdout",
     "output_type": "stream",
     "text": [
      "Requirement already satisfied: tensorflow in c:\\users\\kanad\\appdata\\roaming\\python\\python39\\site-packages (from -r requirements.txt (line 1)) (2.10.0)\n",
      "Collecting rdkit\n",
      "  Using cached rdkit-2022.9.4-cp39-cp39-win_amd64.whl (20.3 MB)\n",
      "Requirement already satisfied: sklearn in c:\\users\\kanad\\appdata\\local\\programs\\python\\python39\\lib\\site-packages (from -r requirements.txt (line 3)) (0.0)\n",
      "Requirement already satisfied: numpy>=1.20 in c:\\users\\kanad\\appdata\\local\\programs\\python\\python39\\lib\\site-packages (from tensorflow->-r requirements.txt (line 1)) (1.23.5)\n",
      "Requirement already satisfied: flatbuffers>=2.0 in c:\\users\\kanad\\appdata\\roaming\\python\\python39\\site-packages (from tensorflow->-r requirements.txt (line 1)) (22.9.24)\n",
      "Requirement already satisfied: tensorflow-io-gcs-filesystem>=0.23.1 in c:\\users\\kanad\\appdata\\roaming\\python\\python39\\site-packages (from tensorflow->-r requirements.txt (line 1)) (0.27.0)\n",
      "Requirement already satisfied: tensorboard<2.11,>=2.10 in c:\\users\\kanad\\appdata\\roaming\\python\\python39\\site-packages (from tensorflow->-r requirements.txt (line 1)) (2.10.1)\n",
      "Requirement already satisfied: gast<=0.4.0,>=0.2.1 in c:\\users\\kanad\\appdata\\roaming\\python\\python39\\site-packages (from tensorflow->-r requirements.txt (line 1)) (0.4.0)\n",
      "Requirement already satisfied: typing-extensions>=3.6.6 in c:\\users\\kanad\\appdata\\roaming\\python\\python39\\site-packages (from tensorflow->-r requirements.txt (line 1)) (4.0.0)\n",
      "Requirement already satisfied: grpcio<2.0,>=1.24.3 in c:\\users\\kanad\\appdata\\roaming\\python\\python39\\site-packages (from tensorflow->-r requirements.txt (line 1)) (1.49.1)\n",
      "Requirement already satisfied: keras<2.11,>=2.10.0 in c:\\users\\kanad\\appdata\\roaming\\python\\python39\\site-packages (from tensorflow->-r requirements.txt (line 1)) (2.10.0)\n",
      "Requirement already satisfied: opt-einsum>=2.3.2 in c:\\users\\kanad\\appdata\\roaming\\python\\python39\\site-packages (from tensorflow->-r requirements.txt (line 1)) (3.3.0)\n",
      "Requirement already satisfied: tensorflow-estimator<2.11,>=2.10.0 in c:\\users\\kanad\\appdata\\roaming\\python\\python39\\site-packages (from tensorflow->-r requirements.txt (line 1)) (2.10.0)\n",
      "Requirement already satisfied: google-pasta>=0.1.1 in c:\\users\\kanad\\appdata\\roaming\\python\\python39\\site-packages (from tensorflow->-r requirements.txt (line 1)) (0.2.0)\n",
      "Requirement already satisfied: wrapt>=1.11.0 in c:\\users\\kanad\\appdata\\roaming\\python\\python39\\site-packages (from tensorflow->-r requirements.txt (line 1)) (1.14.1)\n",
      "Requirement already satisfied: libclang>=13.0.0 in c:\\users\\kanad\\appdata\\roaming\\python\\python39\\site-packages (from tensorflow->-r requirements.txt (line 1)) (14.0.6)\n",
      "Requirement already satisfied: termcolor>=1.1.0 in c:\\users\\kanad\\appdata\\roaming\\python\\python39\\site-packages (from tensorflow->-r requirements.txt (line 1)) (2.0.1)\n",
      "Requirement already satisfied: absl-py>=1.0.0 in c:\\users\\kanad\\appdata\\roaming\\python\\python39\\site-packages (from tensorflow->-r requirements.txt (line 1)) (1.2.0)\n",
      "Requirement already satisfied: protobuf<3.20,>=3.9.2 in c:\\users\\kanad\\appdata\\roaming\\python\\python39\\site-packages (from tensorflow->-r requirements.txt (line 1)) (3.19.1)\n",
      "Requirement already satisfied: h5py>=2.9.0 in c:\\users\\kanad\\appdata\\roaming\\python\\python39\\site-packages (from tensorflow->-r requirements.txt (line 1)) (3.7.0)\n",
      "Requirement already satisfied: six>=1.12.0 in c:\\users\\kanad\\appdata\\roaming\\python\\python39\\site-packages (from tensorflow->-r requirements.txt (line 1)) (1.16.0)\n",
      "Requirement already satisfied: keras-preprocessing>=1.1.1 in c:\\users\\kanad\\appdata\\roaming\\python\\python39\\site-packages (from tensorflow->-r requirements.txt (line 1)) (1.1.2)\n",
      "Requirement already satisfied: packaging in c:\\users\\kanad\\appdata\\local\\programs\\python\\python39\\lib\\site-packages (from tensorflow->-r requirements.txt (line 1)) (22.0)\n",
      "Requirement already satisfied: setuptools in c:\\users\\kanad\\appdata\\local\\programs\\python\\python39\\lib\\site-packages (from tensorflow->-r requirements.txt (line 1)) (58.1.0)\n",
      "Requirement already satisfied: astunparse>=1.6.0 in c:\\users\\kanad\\appdata\\roaming\\python\\python39\\site-packages (from tensorflow->-r requirements.txt (line 1)) (1.6.3)\n",
      "Requirement already satisfied: Pillow in c:\\users\\kanad\\appdata\\roaming\\python\\python39\\site-packages (from rdkit->-r requirements.txt (line 2)) (9.2.0)\n",
      "Requirement already satisfied: scikit-learn in c:\\users\\kanad\\appdata\\local\\programs\\python\\python39\\lib\\site-packages (from sklearn->-r requirements.txt (line 3)) (1.1.2)\n",
      "Requirement already satisfied: wheel<1.0,>=0.23.0 in c:\\users\\kanad\\appdata\\local\\programs\\python\\python39\\lib\\site-packages (from astunparse>=1.6.0->tensorflow->-r requirements.txt (line 1)) (0.37.1)\n",
      "Requirement already satisfied: markdown>=2.6.8 in c:\\users\\kanad\\appdata\\roaming\\python\\python39\\site-packages (from tensorboard<2.11,>=2.10->tensorflow->-r requirements.txt (line 1)) (3.4.1)\n",
      "Requirement already satisfied: google-auth<3,>=1.6.3 in c:\\users\\kanad\\appdata\\roaming\\python\\python39\\site-packages (from tensorboard<2.11,>=2.10->tensorflow->-r requirements.txt (line 1)) (2.12.0)\n",
      "Requirement already satisfied: tensorboard-data-server<0.7.0,>=0.6.0 in c:\\users\\kanad\\appdata\\roaming\\python\\python39\\site-packages (from tensorboard<2.11,>=2.10->tensorflow->-r requirements.txt (line 1)) (0.6.1)\n",
      "Requirement already satisfied: werkzeug>=1.0.1 in c:\\users\\kanad\\appdata\\local\\programs\\python\\python39\\lib\\site-packages (from tensorboard<2.11,>=2.10->tensorflow->-r requirements.txt (line 1)) (2.2.2)\n",
      "Requirement already satisfied: tensorboard-plugin-wit>=1.6.0 in c:\\users\\kanad\\appdata\\roaming\\python\\python39\\site-packages (from tensorboard<2.11,>=2.10->tensorflow->-r requirements.txt (line 1)) (1.8.1)\n",
      "Requirement already satisfied: requests<3,>=2.21.0 in c:\\users\\kanad\\appdata\\local\\programs\\python\\python39\\lib\\site-packages (from tensorboard<2.11,>=2.10->tensorflow->-r requirements.txt (line 1)) (2.28.2)\n",
      "Requirement already satisfied: google-auth-oauthlib<0.5,>=0.4.1 in c:\\users\\kanad\\appdata\\roaming\\python\\python39\\site-packages (from tensorboard<2.11,>=2.10->tensorflow->-r requirements.txt (line 1)) (0.4.6)\n",
      "Requirement already satisfied: scipy>=1.3.2 in c:\\users\\kanad\\appdata\\local\\programs\\python\\python39\\lib\\site-packages (from scikit-learn->sklearn->-r requirements.txt (line 3)) (1.8.1)\n",
      "Requirement already satisfied: threadpoolctl>=2.0.0 in c:\\users\\kanad\\appdata\\local\\programs\\python\\python39\\lib\\site-packages (from scikit-learn->sklearn->-r requirements.txt (line 3)) (3.1.0)\n",
      "Requirement already satisfied: joblib>=1.0.0 in c:\\users\\kanad\\appdata\\local\\programs\\python\\python39\\lib\\site-packages (from scikit-learn->sklearn->-r requirements.txt (line 3)) (1.2.0)\n",
      "Requirement already satisfied: pyasn1-modules>=0.2.1 in c:\\users\\kanad\\appdata\\roaming\\python\\python39\\site-packages (from google-auth<3,>=1.6.3->tensorboard<2.11,>=2.10->tensorflow->-r requirements.txt (line 1)) (0.2.8)\n",
      "Requirement already satisfied: rsa<5,>=3.1.4 in c:\\users\\kanad\\appdata\\roaming\\python\\python39\\site-packages (from google-auth<3,>=1.6.3->tensorboard<2.11,>=2.10->tensorflow->-r requirements.txt (line 1)) (4.9)\n",
      "Requirement already satisfied: cachetools<6.0,>=2.0.0 in c:\\users\\kanad\\appdata\\roaming\\python\\python39\\site-packages (from google-auth<3,>=1.6.3->tensorboard<2.11,>=2.10->tensorflow->-r requirements.txt (line 1)) (4.2.4)\n",
      "Requirement already satisfied: requests-oauthlib>=0.7.0 in c:\\users\\kanad\\appdata\\roaming\\python\\python39\\site-packages (from google-auth-oauthlib<0.5,>=0.4.1->tensorboard<2.11,>=2.10->tensorflow->-r requirements.txt (line 1)) (1.3.1)\n",
      "Requirement already satisfied: importlib-metadata>=4.4 in c:\\users\\kanad\\appdata\\roaming\\python\\python39\\site-packages (from markdown>=2.6.8->tensorboard<2.11,>=2.10->tensorflow->-r requirements.txt (line 1)) (4.8.2)\n",
      "Requirement already satisfied: certifi>=2017.4.17 in c:\\users\\kanad\\appdata\\roaming\\python\\python39\\site-packages (from requests<3,>=2.21.0->tensorboard<2.11,>=2.10->tensorflow->-r requirements.txt (line 1)) (2022.9.24)\n",
      "Requirement already satisfied: urllib3<1.27,>=1.21.1 in c:\\users\\kanad\\appdata\\local\\programs\\python\\python39\\lib\\site-packages (from requests<3,>=2.21.0->tensorboard<2.11,>=2.10->tensorflow->-r requirements.txt (line 1)) (1.22)\n",
      "Requirement already satisfied: idna<4,>=2.5 in c:\\users\\kanad\\appdata\\local\\programs\\python\\python39\\lib\\site-packages (from requests<3,>=2.21.0->tensorboard<2.11,>=2.10->tensorflow->-r requirements.txt (line 1)) (2.6)\n",
      "Requirement already satisfied: charset-normalizer<4,>=2 in c:\\users\\kanad\\appdata\\roaming\\python\\python39\\site-packages (from requests<3,>=2.21.0->tensorboard<2.11,>=2.10->tensorflow->-r requirements.txt (line 1)) (2.0.12)\n",
      "Requirement already satisfied: MarkupSafe>=2.1.1 in c:\\users\\kanad\\appdata\\roaming\\python\\python39\\site-packages (from werkzeug>=1.0.1->tensorboard<2.11,>=2.10->tensorflow->-r requirements.txt (line 1)) (2.1.1)\n",
      "Requirement already satisfied: zipp>=0.5 in c:\\users\\kanad\\appdata\\roaming\\python\\python39\\site-packages (from importlib-metadata>=4.4->markdown>=2.6.8->tensorboard<2.11,>=2.10->tensorflow->-r requirements.txt (line 1)) (3.9.0)\n",
      "Requirement already satisfied: pyasn1<0.5.0,>=0.4.6 in c:\\users\\kanad\\appdata\\roaming\\python\\python39\\site-packages (from pyasn1-modules>=0.2.1->google-auth<3,>=1.6.3->tensorboard<2.11,>=2.10->tensorflow->-r requirements.txt (line 1)) (0.4.8)\n",
      "Requirement already satisfied: oauthlib>=3.0.0 in c:\\users\\kanad\\appdata\\roaming\\python\\python39\\site-packages (from requests-oauthlib>=0.7.0->google-auth-oauthlib<0.5,>=0.4.1->tensorboard<2.11,>=2.10->tensorflow->-r requirements.txt (line 1)) (3.2.1)\n",
      "Installing collected packages: rdkit\n",
      "Successfully installed rdkit-2022.9.4\n"
     ]
    },
    {
     "name": "stderr",
     "output_type": "stream",
     "text": [
      "\n",
      "[notice] A new release of pip available: 22.3.1 -> 23.0\n",
      "[notice] To update, run: python.exe -m pip install --upgrade pip\n"
     ]
    }
   ],
   "source": [
    "!pip install -r requirements.txt"
   ]
  },
  {
   "cell_type": "code",
   "execution_count": 4,
   "metadata": {},
   "outputs": [
    {
     "name": "stdout",
     "output_type": "stream",
     "text": [
      "Collecting torch-geometric\n",
      "  Downloading torch_geometric-2.2.0.tar.gz (564 kB)\n",
      "     -------------------------------------- 565.0/565.0 kB 2.7 MB/s eta 0:00:00\n",
      "  Preparing metadata (setup.py): started\n",
      "  Preparing metadata (setup.py): finished with status 'done'\n",
      "Requirement already satisfied: tqdm in c:\\users\\kanad\\appdata\\roaming\\python\\python39\\site-packages (from torch-geometric) (4.62.3)\n",
      "Requirement already satisfied: numpy in c:\\users\\kanad\\appdata\\local\\programs\\python\\python39\\lib\\site-packages (from torch-geometric) (1.23.5)\n",
      "Requirement already satisfied: scipy in c:\\users\\kanad\\appdata\\local\\programs\\python\\python39\\lib\\site-packages (from torch-geometric) (1.8.1)\n",
      "Requirement already satisfied: jinja2 in c:\\users\\kanad\\appdata\\roaming\\python\\python39\\site-packages (from torch-geometric) (3.1.2)\n",
      "Requirement already satisfied: requests in c:\\users\\kanad\\appdata\\local\\programs\\python\\python39\\lib\\site-packages (from torch-geometric) (2.28.2)\n",
      "Requirement already satisfied: pyparsing in c:\\users\\kanad\\appdata\\roaming\\python\\python39\\site-packages (from torch-geometric) (2.4.7)\n",
      "Requirement already satisfied: scikit-learn in c:\\users\\kanad\\appdata\\local\\programs\\python\\python39\\lib\\site-packages (from torch-geometric) (1.1.2)\n",
      "Requirement already satisfied: psutil>=5.8.0 in c:\\users\\kanad\\appdata\\roaming\\python\\python39\\site-packages (from torch-geometric) (5.9.2)\n",
      "Requirement already satisfied: MarkupSafe>=2.0 in c:\\users\\kanad\\appdata\\roaming\\python\\python39\\site-packages (from jinja2->torch-geometric) (2.1.1)\n",
      "Requirement already satisfied: idna<4,>=2.5 in c:\\users\\kanad\\appdata\\local\\programs\\python\\python39\\lib\\site-packages (from requests->torch-geometric) (2.6)\n",
      "Requirement already satisfied: urllib3<1.27,>=1.21.1 in c:\\users\\kanad\\appdata\\local\\programs\\python\\python39\\lib\\site-packages (from requests->torch-geometric) (1.22)\n",
      "Requirement already satisfied: charset-normalizer<4,>=2 in c:\\users\\kanad\\appdata\\roaming\\python\\python39\\site-packages (from requests->torch-geometric) (2.0.12)\n",
      "Requirement already satisfied: certifi>=2017.4.17 in c:\\users\\kanad\\appdata\\roaming\\python\\python39\\site-packages (from requests->torch-geometric) (2022.9.24)\n",
      "Requirement already satisfied: threadpoolctl>=2.0.0 in c:\\users\\kanad\\appdata\\local\\programs\\python\\python39\\lib\\site-packages (from scikit-learn->torch-geometric) (3.1.0)\n",
      "Requirement already satisfied: joblib>=1.0.0 in c:\\users\\kanad\\appdata\\local\\programs\\python\\python39\\lib\\site-packages (from scikit-learn->torch-geometric) (1.2.0)\n",
      "Requirement already satisfied: colorama in c:\\users\\kanad\\appdata\\roaming\\python\\python39\\site-packages (from tqdm->torch-geometric) (0.4.5)\n",
      "Building wheels for collected packages: torch-geometric\n",
      "  Building wheel for torch-geometric (setup.py): started\n",
      "  Building wheel for torch-geometric (setup.py): finished with status 'done'\n",
      "  Created wheel for torch-geometric: filename=torch_geometric-2.2.0-py3-none-any.whl size=773302 sha256=3f148d6e50dad29aa0579397645abdedf5d8297e0dcc1e4cdbd8363f1ac4e264\n",
      "  Stored in directory: c:\\users\\kanad\\appdata\\local\\pip\\cache\\wheels\\b4\\74\\17\\d489b24c08d73a285cca61f5b0ecde144d0bebc9abceaac66c\n",
      "Successfully built torch-geometric\n",
      "Installing collected packages: torch-geometric\n",
      "Successfully installed torch-geometric-2.2.0\n"
     ]
    },
    {
     "name": "stderr",
     "output_type": "stream",
     "text": [
      "\n",
      "[notice] A new release of pip available: 22.3.1 -> 23.0\n",
      "[notice] To update, run: python.exe -m pip install --upgrade pip\n"
     ]
    }
   ],
   "source": [
    "!pip install torch-geometric"
   ]
  }
 ],
 "metadata": {
  "kernelspec": {
   "display_name": "Python 3",
   "language": "python",
   "name": "python3"
  },
  "language_info": {
   "codemirror_mode": {
    "name": "ipython",
    "version": 3
   },
   "file_extension": ".py",
   "mimetype": "text/x-python",
   "name": "python",
   "nbconvert_exporter": "python",
   "pygments_lexer": "ipython3",
   "version": "3.9.13"
  },
  "orig_nbformat": 4,
  "vscode": {
   "interpreter": {
    "hash": "b9f7f17e2dfc0342ad8fd0225d136ef60900e874e384a8df6732177035c72636"
   }
  }
 },
 "nbformat": 4,
 "nbformat_minor": 2
}
